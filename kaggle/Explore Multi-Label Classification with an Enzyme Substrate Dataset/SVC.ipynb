{
 "cells": [
  {
   "cell_type": "code",
   "execution_count": 15,
   "id": "cda22619-8f33-4813-ae34-8859f00c403b",
   "metadata": {},
   "outputs": [],
   "source": [
    "import matplotlib.pyplot as plt\n",
    "import seaborn as sns\n",
    "import pandas as pd\n",
    "from sklearn.svm import SVC\n",
    "from sklearn.model_selection import train_test_split\n",
    "from sklearn.multioutput import MultiOutputClassifier\n",
    "from sklearn.metrics import accuracy_score"
   ]
  },
  {
   "cell_type": "code",
   "execution_count": 11,
   "id": "afaed5cf-fd84-4870-90bc-2845f145cfe0",
   "metadata": {},
   "outputs": [],
   "source": [
    "train = pd.read_csv('train.csv', index_col=0)\n",
    "test = pd.read_csv('test.csv', index_col=0)"
   ]
  },
  {
   "cell_type": "code",
   "execution_count": 12,
   "id": "5c77baca-5f0d-4f8d-97bf-c5cf7ec739ba",
   "metadata": {},
   "outputs": [],
   "source": [
    "train = train.drop(columns=['EC3', 'EC4', 'EC5', 'EC6'])"
   ]
  },
  {
   "cell_type": "code",
   "execution_count": 13,
   "id": "f1a79035-4e2b-4b75-a98b-d170bee8a2c8",
   "metadata": {},
   "outputs": [],
   "source": [
    "X_train = train.drop(columns=['EC1', 'EC2'])\n",
    "y_train = train[['EC1', 'EC2']]"
   ]
  },
  {
   "cell_type": "code",
   "execution_count": 16,
   "id": "e11bb6e1-bcd9-47cd-85d0-a7fab9690d8f",
   "metadata": {},
   "outputs": [
    {
     "data": {
      "text/plain": [
       "0.5092670598146588"
      ]
     },
     "execution_count": 16,
     "metadata": {},
     "output_type": "execute_result"
    }
   ],
   "source": [
    "X_train, X_val, y_train, y_val = train_test_split(X_train, y_train, test_size=0.2, random_state=42)\n",
    "model = MultiOutputClassifier(SVC(probability=True))\n",
    "model.fit(X_train, y_train)\n",
    "y_val_pred = model.predict(X_val)\n",
    "accuracy = accuracy_score(y_val, y_val_pred)\n",
    "accuracy"
   ]
  },
  {
   "cell_type": "code",
   "execution_count": null,
   "id": "ada20124-3d77-4eea-83ed-65d568d9108c",
   "metadata": {},
   "outputs": [],
   "source": []
  }
 ],
 "metadata": {
  "kernelspec": {
   "display_name": "Python 3 (ipykernel)",
   "language": "python",
   "name": "python3"
  },
  "language_info": {
   "codemirror_mode": {
    "name": "ipython",
    "version": 3
   },
   "file_extension": ".py",
   "mimetype": "text/x-python",
   "name": "python",
   "nbconvert_exporter": "python",
   "pygments_lexer": "ipython3",
   "version": "3.9.13"
  }
 },
 "nbformat": 4,
 "nbformat_minor": 5
}
